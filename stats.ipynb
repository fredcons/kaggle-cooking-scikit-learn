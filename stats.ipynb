{
 "cells": [
  {
   "cell_type": "code",
   "execution_count": null,
   "metadata": {
    "collapsed": false
   },
   "outputs": [],
   "source": [
    "import pandas as pd\n",
    "recipes = pd.read_json(\"train.json\", orient = \"records\", dtype = {\"cuisine\" : \"str\", \"id\" : \"int64\", \"ingredients\" : \"str\"})\n",
    "recipes.head()"
   ]
  },
  {
   "cell_type": "code",
   "execution_count": null,
   "metadata": {
    "collapsed": false
   },
   "outputs": [],
   "source": [
    "from collections import Counter\n",
    "\n",
    "def concat_ingredients(row):\n",
    "    return pd.Series(dict(ingredients = \"%s\" % ' '.join(row['ingredients'])))\n",
    "\n",
    "\n",
    "by_cuisine = recipes.groupby(\"cuisine\").apply(concat_ingredients)\n",
    "by_cuisine['cuisine'] = by_cuisine.index\n",
    "by_cuisine['ingredients_count'] = by_cuisine['ingredients'].apply(lambda s : sorted(Counter(s.split()).items(),key = lambda pair : -pair[1]))\n",
    "by_cuisine"
   ]
  },
  {
   "cell_type": "code",
   "execution_count": null,
   "metadata": {
    "collapsed": false
   },
   "outputs": [],
   "source": [
    "%matplotlib inline\n",
    "import matplotlib.pyplot as plt\n",
    "import numpy as np\n",
    "\n",
    "num_ingredients = 20\n",
    "cuisine = 'korean'\n",
    "\n",
    "ingredients_names = map(lambda i : i[0] , by_cuisine.ix[cuisine]['ingredients_count'])[0:num_ingredients]\n",
    "ingredients_counts = map(lambda i : i[1] , by_cuisine.ix[cuisine]['ingredients_count'])[0:num_ingredients]\n",
    "print ingredients_names\n",
    "print ingredients_counts\n",
    "\n",
    "index = np.arange(num_ingredients)\n",
    "\n",
    "french_ingredients = plt.barh(index, ingredients_counts)\n",
    "plt.xlabel('Occurences')\n",
    "plt.title('Top ingredients for cuisine')\n",
    "plt.yticks(index, ingredients_names)\n",
    "\n",
    "plt.show()"
   ]
  }
 ],
 "metadata": {
  "kernelspec": {
   "display_name": "Python 2",
   "language": "python",
   "name": "python2"
  },
  "language_info": {
   "codemirror_mode": {
    "name": "ipython",
    "version": 2
   },
   "file_extension": ".py",
   "mimetype": "text/x-python",
   "name": "python",
   "nbconvert_exporter": "python",
   "pygments_lexer": "ipython2",
   "version": "2.7.10"
  }
 },
 "nbformat": 4,
 "nbformat_minor": 0
}
