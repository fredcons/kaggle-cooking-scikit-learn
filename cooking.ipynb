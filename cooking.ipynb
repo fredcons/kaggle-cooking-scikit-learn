{
 "cells": [
  {
   "cell_type": "code",
   "execution_count": null,
   "metadata": {
    "collapsed": false,
    "scrolled": true
   },
   "outputs": [],
   "source": [
    "import pandas as pd\n",
    "recipes = pd.read_json(\"train.json\", orient = \"records\", dtype = {\"cuisine\" : \"str\", \"id\" : \"int64\", \"ingredients\" : \"str\"})\n",
    "recipes.head()"
   ]
  },
  {
   "cell_type": "code",
   "execution_count": null,
   "metadata": {
    "collapsed": false
   },
   "outputs": [],
   "source": [
    "recipes.shape"
   ]
  },
  {
   "cell_type": "code",
   "execution_count": null,
   "metadata": {
    "collapsed": false
   },
   "outputs": [],
   "source": [
    "from sklearn.feature_extraction.text import TfidfVectorizer\n",
    "from sklearn.feature_extraction.text import CountVectorizer\n",
    "import numpy as np\n",
    "\n",
    "from nltk.tokenize.regexp import RegexpTokenizer\n",
    "from nltk.stem.porter import PorterStemmer\n",
    "from nltk.metrics import *\n",
    "\n",
    "# unused\n",
    "def comma_split(s):\n",
    "    return s.split(\",\")\n",
    "\n",
    "# unused\n",
    "bigram_vectorizer = CountVectorizer(ngram_range=(1, 2), token_pattern=r'\\b\\w+\\b', min_df=1)\n",
    "analyzer = bigram_vectorizer.build_analyzer()\n",
    "\n",
    "# unused\n",
    "def tokenize(s):\n",
    "    all_elements = []\n",
    "    elements = comma_split(s) \n",
    "    elements = map(lambda s: s.strip(), elements)\n",
    "    all_elements += elements\n",
    "    for element in elements:\n",
    "        bigrams = analyzer(element)  \n",
    "        all_elements += bigrams\n",
    "    return all_elements\n",
    "\n",
    "class StemTokenizer(object):\n",
    "    def __init__(self):\n",
    "        self.vectorizer = CountVectorizer(min_df=1, token_pattern=r\"(?u)\\b[a-zA-Z][a-zA-Z]+\\b\", strip_accents='ascii', stop_words='english')\n",
    "        self.analyzer = self.vectorizer.build_analyzer()\n",
    "        self.stemmer = PorterStemmer()\n",
    "        self.reference_words = []\n",
    "    def __call__(self, doc):\n",
    "        return [self.stemmer.stem(t) for t in self.analyzer(doc)]\n",
    "\n",
    "\n",
    "#vectorizer = TfidfVectorizer(min_df=1, ngram_range=(1,1), tokenizer=tokenize, stop_words='english', dtype=np.float32, max_features = 20000)\n",
    "#vectorizer = TfidfVectorizer(min_df=1, analyzer='word', token_pattern=r\"(?u)\\b[a-zA-Z][a-zA-Z]+\\b\", strip_accents='ascii', stop_words='english', dtype=np.float32, max_features = 2000)\n",
    "vectorizer = TfidfVectorizer(min_df=1, tokenizer=StemTokenizer(), strip_accents='ascii', stop_words='english', dtype=np.float32, max_features = 2000)\n",
    "ingredients_features = vectorizer.fit_transform(recipes[\"ingredients\"])\n",
    "ingredients_features"
   ]
  },
  {
   "cell_type": "code",
   "execution_count": null,
   "metadata": {
    "collapsed": false
   },
   "outputs": [],
   "source": [
    "vectorizer.get_feature_names()[0:1000]"
   ]
  },
  {
   "cell_type": "code",
   "execution_count": null,
   "metadata": {
    "collapsed": true
   },
   "outputs": [],
   "source": [
    "from pandas import DataFrame\n",
    "features_df = DataFrame(vectorizer.get_feature_names())\n",
    "features_df.to_csv(\"features_stemmed.csv\")"
   ]
  },
  {
   "cell_type": "code",
   "execution_count": null,
   "metadata": {
    "collapsed": false
   },
   "outputs": [],
   "source": [
    "from sklearn.cross_validation import train_test_split\n",
    "recipes_train_data, recipes_test_data, recipes_train_result, recipes_test_result = train_test_split(ingredients_features, recipes[\"cuisine\"], test_size=0.2, random_state=42)"
   ]
  },
  {
   "cell_type": "code",
   "execution_count": null,
   "metadata": {
    "collapsed": false
   },
   "outputs": [],
   "source": [
    "from sklearn import ensemble\n",
    "from sklearn.ensemble import RandomForestClassifier\n",
    "from sklearn.ensemble import ExtraTreesClassifier\n",
    "clf = ExtraTreesClassifier(n_estimators=500)\n",
    "clf = clf.fit(recipes_train_data.toarray(), recipes_train_result)"
   ]
  },
  {
   "cell_type": "code",
   "execution_count": null,
   "metadata": {
    "collapsed": false
   },
   "outputs": [],
   "source": [
    "from sklearn import cross_validation\n",
    "from sklearn import metrics\n",
    "predicted = clf.predict(recipes_test_data.toarray()) \n",
    "metrics.accuracy_score(recipes_test_result, predicted) "
   ]
  },
  {
   "cell_type": "code",
   "execution_count": null,
   "metadata": {
    "collapsed": false
   },
   "outputs": [],
   "source": [
    "metrics.confusion_matrix(recipes_test_result, predicted) "
   ]
  },
  {
   "cell_type": "code",
   "execution_count": null,
   "metadata": {
    "collapsed": false
   },
   "outputs": [],
   "source": [
    "recipes_test = pd.read_json(\"test.json\", orient = \"records\", dtype = {\"cuisine\" : \"str\", \"id\" : \"int64\", \"ingredients\" : \"str\"})"
   ]
  },
  {
   "cell_type": "code",
   "execution_count": null,
   "metadata": {
    "collapsed": false
   },
   "outputs": [],
   "source": [
    "ingredients_test_features = vectorizer.transform(recipes_test[\"ingredients\"])"
   ]
  },
  {
   "cell_type": "code",
   "execution_count": null,
   "metadata": {
    "collapsed": false
   },
   "outputs": [],
   "source": [
    "ingredients_test_features.shape"
   ]
  },
  {
   "cell_type": "code",
   "execution_count": null,
   "metadata": {
    "collapsed": false
   },
   "outputs": [],
   "source": [
    "test_predicted = clf.predict(ingredients_test_features.toarray()) "
   ]
  },
  {
   "cell_type": "code",
   "execution_count": null,
   "metadata": {
    "collapsed": false
   },
   "outputs": [],
   "source": [
    "test_df = pd.DataFrame({'id': recipes_test[\"id\"], 'cuisine': test_predicted})\n",
    "test_df.to_csv(\"result.csv\", index=False, columns=(\"id\", \"cuisine\"))"
   ]
  }
 ],
 "metadata": {
  "kernelspec": {
   "display_name": "Python 2",
   "language": "python",
   "name": "python2"
  },
  "language_info": {
   "codemirror_mode": {
    "name": "ipython",
    "version": 2
   },
   "file_extension": ".py",
   "mimetype": "text/x-python",
   "name": "python",
   "nbconvert_exporter": "python",
   "pygments_lexer": "ipython2",
   "version": "2.7.10"
  }
 },
 "nbformat": 4,
 "nbformat_minor": 0
}
